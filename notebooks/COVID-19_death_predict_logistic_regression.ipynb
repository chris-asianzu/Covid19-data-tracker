{
 "cells": [
  {
   "cell_type": "code",
   "execution_count": 1,
   "id": "7d79cdff-2c85-4800-8652-428b16ecde20",
   "metadata": {},
   "outputs": [],
   "source": [
    "# COVID-19 Death Prediction Using Logistic Regression"
   ]
  },
  {
   "cell_type": "code",
   "execution_count": 4,
   "id": "57f7da79-142a-4893-be8e-257be0f32215",
   "metadata": {},
   "outputs": [],
   "source": [
    "# Core libraries for data manipulation and modeling\n",
    "import pandas as pd\n",
    "from sklearn.model_selection import train_test_split\n",
    "from sklearn.linear_model import LogisticRegression\n",
    "from sklearn.metrics import classification_report, confusion_matrix\n",
    "import os\n",
    "# Suppress warnings for clean output\n",
    "import warnings\n",
    "warnings.filterwarnings('ignore')\n"
   ]
  },
  {
   "cell_type": "code",
   "execution_count": 5,
   "id": "2cbb24b4-b014-4d22-8916-918e4147669c",
   "metadata": {},
   "outputs": [],
   "source": [
    "# Define paths for data, report, and visuals folder, create visuals folder if it doesn't exist\n",
    "data_path = '../data/processed_data.csv'\n",
    "report_path = '../reports/covid19_analysis_report.md'\n",
    "visuals_path = '../visuals/'\n",
    "os.makedirs(visuals_path, exist_ok=True)"
   ]
  },
  {
   "cell_type": "code",
   "execution_count": 6,
   "id": "d2a7a860-c7de-4a3e-b52c-87382dc5960d",
   "metadata": {},
   "outputs": [],
   "source": [
    "# Load the processed dataset\n",
    "df = pd.read_csv(data_path)"
   ]
  },
  {
   "cell_type": "code",
   "execution_count": 7,
   "id": "ec1f9518-ffa1-492f-9648-a2c57d6f5fbb",
   "metadata": {},
   "outputs": [
    {
     "name": "stdout",
     "output_type": "stream",
     "text": [
      "Death (death_yn) unique values and counts:\n",
      "death_yn\n",
      "NaN    4803\n",
      "0.0    4196\n",
      "1.0      20\n",
      "Name: count, dtype: int64\n",
      "\n",
      "\n"
     ]
    }
   ],
   "source": [
    "# Check death target\n",
    "print(\"Death (death_yn) unique values and counts:\")\n",
    "print(df['death_yn'].value_counts(dropna=False))\n",
    "print(\"\\n\")"
   ]
  },
  {
   "cell_type": "code",
   "execution_count": null,
   "id": "e64f70f2-5262-4443-b460-a83957ed12c2",
   "metadata": {},
   "outputs": [],
   "source": [
    "# Prepare data (filter, clean target)"
   ]
  },
  {
   "cell_type": "code",
   "execution_count": 8,
   "id": "a8563037-eefe-4d39-88a7-7f917cde9119",
   "metadata": {},
   "outputs": [],
   "source": [
    "# Filter dataset to rows with death info available and prepare target variable\n",
    "df_death = df.dropna(subset=['death_yn']).copy()  # Drop rows with missing death outcome\n",
    "df_death['death_yn'] = df_death['death_yn'].astype(int)  # Convert death outcome to integer 0 or 1"
   ]
  },
  {
   "cell_type": "code",
   "execution_count": null,
   "id": "537bb145-d94f-4550-a336-c1d852ff2be0",
   "metadata": {},
   "outputs": [],
   "source": []
  },
  {
   "cell_type": "code",
   "execution_count": null,
   "id": "9ff3d0e3-fac1-4c90-aad4-84140bf81e17",
   "metadata": {},
   "outputs": [],
   "source": []
  },
  {
   "cell_type": "code",
   "execution_count": null,
   "id": "c74b9788-85e4-4d6f-a375-095cd2421550",
   "metadata": {},
   "outputs": [],
   "source": []
  },
  {
   "cell_type": "code",
   "execution_count": null,
   "id": "cc4d6442-7d15-4a3a-9bdf-a05c58c3e7bd",
   "metadata": {},
   "outputs": [],
   "source": []
  },
  {
   "cell_type": "code",
   "execution_count": null,
   "id": "ae421857-aec2-4ee0-83d9-ec0eb8ccce36",
   "metadata": {},
   "outputs": [],
   "source": []
  },
  {
   "cell_type": "code",
   "execution_count": null,
   "id": "3090e872-ddb5-4ec5-9319-7e96e535aa23",
   "metadata": {},
   "outputs": [],
   "source": []
  },
  {
   "cell_type": "code",
   "execution_count": null,
   "id": "c487bc99-2665-4593-af68-628093cc1359",
   "metadata": {},
   "outputs": [],
   "source": []
  }
 ],
 "metadata": {
  "kernelspec": {
   "display_name": "Python 3 (ipykernel)",
   "language": "python",
   "name": "python3"
  },
  "language_info": {
   "codemirror_mode": {
    "name": "ipython",
    "version": 3
   },
   "file_extension": ".py",
   "mimetype": "text/x-python",
   "name": "python",
   "nbconvert_exporter": "python",
   "pygments_lexer": "ipython3",
   "version": "3.11.5"
  }
 },
 "nbformat": 4,
 "nbformat_minor": 5
}
