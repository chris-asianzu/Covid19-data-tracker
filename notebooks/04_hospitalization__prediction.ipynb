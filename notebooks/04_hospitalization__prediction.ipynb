{
 "cells": [
  {
   "cell_type": "code",
   "execution_count": 11,
   "id": "d0409b21-ad0e-4668-9510-4ac318cf2ebf",
   "metadata": {},
   "outputs": [],
   "source": [
    "# Predicting Hospitalization Risk Using Logistic Regression"
   ]
  },
  {
   "cell_type": "code",
   "execution_count": 12,
   "id": "cdd846c8-068e-4d9d-9b90-f842795b408e",
   "metadata": {},
   "outputs": [],
   "source": [
    "# 1: Imports and Setup"
   ]
  },
  {
   "cell_type": "code",
   "execution_count": 2,
   "id": "015e7039-4584-4b0f-970d-09e1e849a222",
   "metadata": {},
   "outputs": [],
   "source": [
    "import pandas as pd\n",
    "import numpy as np\n",
    "import os\n",
    "from sklearn.model_selection import train_test_split\n",
    "from sklearn.linear_model import LogisticRegression\n",
    "from sklearn.metrics import confusion_matrix, classification_report, roc_curve, auc\n",
    "import matplotlib.pyplot as plt\n",
    "import seaborn as sns\n",
    "\n",
    "# Define paths for data, report, and visuals folder, create visuals folder if it doesn't exist\n",
    "data_path = '../data/processed_data.csv'\n",
    "report_path = '../reports/covid19_analysis_report.md'\n",
    "visuals_path = '../visuals/'\n",
    "os.makedirs(visuals_path, exist_ok=True)"
   ]
  },
  {
   "cell_type": "code",
   "execution_count": 13,
   "id": "62588b59-5964-4319-a1d8-c64369f90262",
   "metadata": {},
   "outputs": [],
   "source": [
    "# Load the processed dataset\n",
    "df = pd.read_csv(data_path)"
   ]
  },
  {
   "cell_type": "code",
   "execution_count": 26,
   "id": "60123ec6-1257-4a48-8e49-238bce7a115a",
   "metadata": {},
   "outputs": [
    {
     "name": "stdout",
     "output_type": "stream",
     "text": [
      "Hospitalization (hosp_yn) unique values and counts:\n",
      "hosp_yn\n",
      "NaN    5936\n",
      "0.0    2949\n",
      "1.0     134\n",
      "Name: count, dtype: int64\n",
      "\n",
      "\n"
     ]
    }
   ],
   "source": [
    "# Check hospitalization target\n",
    "print(\"Hospitalization (hosp_yn) unique values and counts:\")\n",
    "print(df['hosp_yn'].value_counts(dropna=False))\n",
    "print(\"\\n\")"
   ]
  },
  {
   "cell_type": "code",
   "execution_count": null,
   "id": "d694dfd4-3e6e-466d-8b70-c61e24dd9691",
   "metadata": {},
   "outputs": [],
   "source": [
    "#  Prepare data and target variable"
   ]
  },
  {
   "cell_type": "code",
   "execution_count": 15,
   "id": "beb7ea63-3e75-471e-8e3c-bba44958c79e",
   "metadata": {},
   "outputs": [],
   "source": [
    "# Drop rows with missing hospitalization info and prepare target variable\n",
    "df_hosp = df.dropna(subset=['hosp_yn']).copy()  # Keep only rows where hospitalization info exists\n",
    "df_hosp['hosp_yn'] = df_hosp['hosp_yn'].astype(int)  # Convert target to integer (0 or 1)"
   ]
  },
  {
   "cell_type": "code",
   "execution_count": 16,
   "id": "4b2d0c61-dacf-4a9a-a372-e8c31d30ed34",
   "metadata": {},
   "outputs": [],
   "source": [
    "# Feature selection and encoding"
   ]
  },
  {
   "cell_type": "code",
   "execution_count": 17,
   "id": "18dbb361-39b8-4cb6-8bd8-b11bbf57b81d",
   "metadata": {},
   "outputs": [],
   "source": [
    "# Select features and encode categorical variables for modeling\n",
    "X = df_hosp[['sex', 'age_group', 'race_ethnicity_combined', 'medcond_yn']].copy()\n",
    "\n",
    "# One-hot encode categorical variables, drop first to avoid multicollinearity\n",
    "X = pd.get_dummies(X, columns=['sex', 'age_group', 'race_ethnicity_combined', 'medcond_yn'], drop_first=True)\n",
    "\n",
    "# Target variable\n",
    "y = df_hosp['hosp_yn']"
   ]
  },
  {
   "cell_type": "code",
   "execution_count": 18,
   "id": "17d4fb03-8289-448c-a42b-33e08921db8f",
   "metadata": {},
   "outputs": [],
   "source": [
    "#  Train-test split"
   ]
  },
  {
   "cell_type": "code",
   "execution_count": 19,
   "id": "0e56c3ea-42a8-4633-a862-abecc60c4fc1",
   "metadata": {},
   "outputs": [],
   "source": [
    "from sklearn.model_selection import train_test_split\n",
    "\n",
    "# Stratified split to maintain class proportions (20% test data)\n",
    "X_train, X_test, y_train, y_test = train_test_split(\n",
    "    X, y, stratify=y, test_size=0.2, random_state=42\n",
    ")"
   ]
  },
  {
   "cell_type": "code",
   "execution_count": 20,
   "id": "55c5a93e-2f0c-43cc-9f66-141d046fe707",
   "metadata": {},
   "outputs": [],
   "source": [
    "# Model training and prediction"
   ]
  },
  {
   "cell_type": "code",
   "execution_count": 21,
   "id": "779f5729-f833-4a61-9a37-80821e48f7b9",
   "metadata": {},
   "outputs": [],
   "source": [
    "# Initialize Logistic Regression with balanced class weights and sufficient iterations\n",
    "model = LogisticRegression(class_weight='balanced', max_iter=1000, random_state=42)\n",
    "\n",
    "# Fit the model on the training data\n",
    "model.fit(X_train, y_train)\n",
    "\n",
    "# Predict on test data\n",
    "y_pred = model.predict(X_test)"
   ]
  },
  {
   "cell_type": "code",
   "execution_count": 22,
   "id": "5ef5e5db-6ce0-40cb-8332-fdf0da146088",
   "metadata": {},
   "outputs": [],
   "source": [
    "# Evaluation and reporting"
   ]
  },
  {
   "cell_type": "code",
   "execution_count": 23,
   "id": "cddf307e-9757-45cf-a018-5c80d76c4558",
   "metadata": {},
   "outputs": [
    {
     "name": "stdout",
     "output_type": "stream",
     "text": [
      "=== Hospitalization Prediction Results ===\n",
      "\n",
      "Classification Report:\n",
      "               precision    recall  f1-score   support\n",
      "\n",
      "     No Hosp       0.99      0.38      0.55       590\n",
      "        Hosp       0.06      0.89      0.12        27\n",
      "\n",
      "    accuracy                           0.41       617\n",
      "   macro avg       0.52      0.64      0.33       617\n",
      "weighted avg       0.95      0.41      0.53       617\n",
      "\n",
      "Confusion Matrix:\n",
      " [[226 364]\n",
      " [  3  24]]\n"
     ]
    }
   ],
   "source": [
    "# Generate classification report and confusion matrix\n",
    "clf_report = classification_report(y_test, y_pred, target_names=['No Hosp', 'Hosp'])\n",
    "conf_matrix = confusion_matrix(y_test, y_pred)\n",
    "\n",
    "# Print results in notebook\n",
    "print(\"=== Hospitalization Prediction Results ===\\n\")\n",
    "print(\"Classification Report:\\n\", clf_report)\n",
    "print(\"Confusion Matrix:\\n\", conf_matrix)"
   ]
  },
  {
   "cell_type": "code",
   "execution_count": 25,
   "id": "72017908-4f4d-4a74-8974-da257fe754e3",
   "metadata": {},
   "outputs": [
    {
     "name": "stdout",
     "output_type": "stream",
     "text": [
      "Hospitalization model evaluation saved to report.\n"
     ]
    }
   ],
   "source": [
    "# Append evaluation metrics to markdown report file\n",
    "with open('../reports/covid19_analysis_report.md', 'a') as f:\n",
    "    f.write(\"\\n## Hospitalization Prediction Model\\n\")\n",
    "    f.write(\"### Classification Report\\n```\\n\")\n",
    "    f.write(clf_report)\n",
    "    f.write(\"\\n```\\n\")\n",
    "    f.write(f\"### Confusion Matrix\\n```\\n{conf_matrix}\\n```\\n\")\n",
    "\n",
    "print(\"Hospitalization model evaluation saved to report.\")"
   ]
  },
  {
   "cell_type": "code",
   "execution_count": null,
   "id": "0ce805e7-3568-4860-8f66-50d2555a45b5",
   "metadata": {},
   "outputs": [],
   "source": []
  }
 ],
 "metadata": {
  "kernelspec": {
   "display_name": "Python 3 (ipykernel)",
   "language": "python",
   "name": "python3"
  },
  "language_info": {
   "codemirror_mode": {
    "name": "ipython",
    "version": 3
   },
   "file_extension": ".py",
   "mimetype": "text/x-python",
   "name": "python",
   "nbconvert_exporter": "python",
   "pygments_lexer": "ipython3",
   "version": "3.11.5"
  }
 },
 "nbformat": 4,
 "nbformat_minor": 5
}
