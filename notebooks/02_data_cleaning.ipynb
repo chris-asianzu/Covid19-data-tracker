{
 "cells": [
  {
   "cell_type": "code",
   "execution_count": 1,
   "id": "5fb95304-8b87-4b36-844d-1a42cd2cc198",
   "metadata": {},
   "outputs": [],
   "source": [
    "import pandas as pd\n",
    "import numpy as np"
   ]
  },
  {
   "cell_type": "code",
   "execution_count": 3,
   "id": "b54721e4-617a-4bc7-bf3d-6aeedc3e425b",
   "metadata": {},
   "outputs": [],
   "source": [
    "# 1: Load the raw dataset\n",
    "from pathlib import Path\n",
    "\n",
    "# Define path relative to this notebook\n",
    "data_path = Path('../data/cleaned_data.csv')\n",
    "\n",
    "# Load the CSV\n",
    "df = pd.read_csv(data_path)"
   ]
  },
  {
   "cell_type": "code",
   "execution_count": 5,
   "id": "560a8be3-6114-41d4-a79c-cc387caebbe8",
   "metadata": {},
   "outputs": [],
   "source": [
    "# 2: Convert date columns to datetime, handle inconsistent formats robustly\n",
    "date_cols = ['cdc_case_earliest_dt', 'cdc_report_dt', 'onset_dt', 'pos_spec_dt']\n",
    "for col in date_cols:\n",
    "    df[col] = pd.to_datetime(df[col], errors='coerce')"
   ]
  },
  {
   "cell_type": "code",
   "execution_count": 6,
   "id": "000f018b-e961-4916-b502-e8f8432fa22f",
   "metadata": {},
   "outputs": [],
   "source": [
    "# 3: Normalize categorical columns\n",
    "# Strip whitespace, unify case, handle typos (example with sex)\n",
    "df['sex'] = df['sex'].str.strip().str.capitalize()\n",
    "df['sex'] = df['sex'].replace({'Femal': 'Female', 'Mle': 'Male'})  # add known typos here"
   ]
  },
  {
   "cell_type": "code",
   "execution_count": 7,
   "id": "1180fe51-ebd6-4283-bd53-1067c6004ff5",
   "metadata": {},
   "outputs": [],
   "source": [
    "# 4: Clean binary variables: 'Yes'/'No'/'Missing' → 1/0/np.nan\n",
    "binary_cols = ['hosp_yn', 'icu_yn', 'death_yn', 'medcond_yn']\n",
    "mapping = {'Yes': 1, 'No': 0, 'Missing': np.nan}\n",
    "for col in binary_cols:\n",
    "    df[col] = df[col].map(mapping)"
   ]
  },
  {
   "cell_type": "code",
   "execution_count": 8,
   "id": "e30bb69f-547d-4e90-932b-48defc288a73",
   "metadata": {},
   "outputs": [],
   "source": [
    "# 5: Create feature - days from case to report date (critical metric)\n",
    "df['days_to_report'] = (df['cdc_report_dt'] - df['cdc_case_earliest_dt']).dt.days"
   ]
  },
  {
   "cell_type": "code",
   "execution_count": 9,
   "id": "8674e483-0d29-4e15-9b00-dfecae338930",
   "metadata": {},
   "outputs": [],
   "source": [
    "# 6: Handle missing values strategically\n",
    "# Fill missing days_to_report with median\n",
    "median_days = df['days_to_report'].median()\n",
    "df['days_to_report'] = df['days_to_report'].fillna(median_days)"
   ]
  },
  {
   "cell_type": "code",
   "execution_count": null,
   "id": "c3e2c33f-686a-402b-a944-6fa8b5929f0e",
   "metadata": {},
   "outputs": [],
   "source": [
    "# 7: Save cleaned, processed data for next stage\n",
    "processed_path = Path('../data/processed_data.csv')\n",
    "\n",
    "# Save the cleaned DataFrame\n",
    "df.to_csv(processed_path, index=False)\n",
    "\n",
    "print(\"Data cleaning complete. Processed data saved at:\", processed_path.resolve())\n"
   ]
  },
  {
   "cell_type": "code",
   "execution_count": null,
   "id": "b2c89a64-17de-4472-86c0-f6354ce5a542",
   "metadata": {},
   "outputs": [],
   "source": []
  }
 ],
 "metadata": {
  "kernelspec": {
   "display_name": "Python 3 (ipykernel)",
   "language": "python",
   "name": "python3"
  },
  "language_info": {
   "codemirror_mode": {
    "name": "ipython",
    "version": 3
   },
   "file_extension": ".py",
   "mimetype": "text/x-python",
   "name": "python",
   "nbconvert_exporter": "python",
   "pygments_lexer": "ipython3",
   "version": "3.11.5"
  }
 },
 "nbformat": 4,
 "nbformat_minor": 5
}
