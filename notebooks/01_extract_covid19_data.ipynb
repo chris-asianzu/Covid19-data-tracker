{
 "cells": [
  {
   "cell_type": "code",
   "execution_count": 8,
   "id": "57e97a92-b3c5-4047-a004-a041f2a714a9",
   "metadata": {},
   "outputs": [
    {
     "name": "stdout",
     "output_type": "stream",
     "text": [
      "Fetching data from: https://data.cdc.gov/resource/vbim-akqf.json?$limit=1000&$offset=0\n",
      "Fetching data from: https://data.cdc.gov/resource/vbim-akqf.json?$limit=1000&$offset=1000\n",
      "Fetching data from: https://data.cdc.gov/resource/vbim-akqf.json?$limit=1000&$offset=2000\n",
      "Fetching data from: https://data.cdc.gov/resource/vbim-akqf.json?$limit=1000&$offset=3000\n",
      "Fetching data from: https://data.cdc.gov/resource/vbim-akqf.json?$limit=1000&$offset=4000\n",
      "Fetching data from: https://data.cdc.gov/resource/vbim-akqf.json?$limit=1000&$offset=5000\n",
      "Fetching data from: https://data.cdc.gov/resource/vbim-akqf.json?$limit=1000&$offset=6000\n",
      "Fetching data from: https://data.cdc.gov/resource/vbim-akqf.json?$limit=1000&$offset=7000\n",
      "Fetching data from: https://data.cdc.gov/resource/vbim-akqf.json?$limit=1000&$offset=8000\n",
      "Fetching data from: https://data.cdc.gov/resource/vbim-akqf.json?$limit=1000&$offset=9000\n",
      "      cdc_case_earliest_dt            cdc_report_dt                 onset_dt  \\\n",
      "0  2021-10-09T00:00:00.000  2021-10-28T00:00:00.000  2021-10-09T00:00:00.000   \n",
      "1  2020-11-03T00:00:00.000  2020-11-09T00:00:00.000  2020-11-03T00:00:00.000   \n",
      "2  2020-11-03T00:00:00.000  2020-11-09T00:00:00.000  2020-11-03T00:00:00.000   \n",
      "3  2022-02-06T00:00:00.000  2022-07-30T00:00:00.000  2022-02-06T00:00:00.000   \n",
      "4  2021-03-06T00:00:00.000  2021-03-29T00:00:00.000  2021-03-06T00:00:00.000   \n",
      "\n",
      "              current_status     sex      age_group race_ethnicity_combined  \\\n",
      "0  Laboratory-confirmed case  Female  50 - 59 Years     White, Non-Hispanic   \n",
      "1  Laboratory-confirmed case  Female  50 - 59 Years     White, Non-Hispanic   \n",
      "2  Laboratory-confirmed case  Female  50 - 59 Years     White, Non-Hispanic   \n",
      "3  Laboratory-confirmed case  Female  50 - 59 Years     White, Non-Hispanic   \n",
      "4  Laboratory-confirmed case  Female  50 - 59 Years     White, Non-Hispanic   \n",
      "\n",
      "  hosp_yn   icu_yn death_yn medcond_yn pos_spec_dt  \n",
      "0      No  Missing       No    Missing         NaN  \n",
      "1      No  Missing       No    Missing         NaN  \n",
      "2      No  Missing       No    Missing         NaN  \n",
      "3      No  Missing       No    Missing         NaN  \n",
      "4      No  Missing       No    Missing         NaN  \n"
     ]
    }
   ],
   "source": [
    "import requests\n",
    "import pandas as pd\n",
    "\n",
    "# Base API URL\n",
    "base_url = \"https://data.cdc.gov/resource/vbim-akqf.json\"\n",
    "limit = 1000  # Number of records to fetch per request\n",
    "offset = 0    # Starting point\n",
    "rows_fetched = 0  # Counter to track total rows fetched\n",
    "all_data = []  # List to store all data chunks\n",
    "\n",
    "try:\n",
    "    while rows_fetched < 10000:  # Continue until we reach 10,000 rows\n",
    "        # Construct the query URL with limit and offset\n",
    "        query_url = f\"{base_url}?$limit={limit}&$offset={offset}\"\n",
    "        print(f\"Fetching data from: {query_url}\")\n",
    "        \n",
    "        # Fetch the data\n",
    "        response = requests.get(query_url, timeout=10)\n",
    "        response.raise_for_status()\n",
    "        \n",
    "        # Parse the JSON response\n",
    "        data = response.json()\n",
    "        \n",
    "        # Break the loop if no more data is returned\n",
    "        if not data:\n",
    "            break\n",
    "        \n",
    "        # Append the data chunk to the list\n",
    "        all_data.extend(data)\n",
    "        \n",
    "        # Update the row counter\n",
    "        rows_fetched += len(data)\n",
    "        \n",
    "        # Increment the offset\n",
    "        offset += limit\n",
    "\n",
    "    # Convert the combined data into a pandas DataFrame\n",
    "    df = pd.DataFrame(all_data)\n",
    "    \n",
    "    # Display the first few rows of the combined data\n",
    "    print(df.head())\n",
    "\n",
    "    # Store the data in a DataFrame (no CSV saving)\n",
    "    data_frame = df  # Now holding the entire data in DataFrame format\n",
    "\n",
    "except requests.exceptions.RequestException as e:\n",
    "    print(f\"An error occurred: {e}\")\n"
   ]
  },
  {
   "cell_type": "code",
   "execution_count": 10,
   "id": "83736927-9c48-4bc2-bc43-c5fc125a47f7",
   "metadata": {},
   "outputs": [
    {
     "name": "stdout",
     "output_type": "stream",
     "text": [
      "Index(['cdc_case_earliest_dt', 'cdc_report_dt', 'onset_dt', 'current_status',\n",
      "       'sex', 'age_group', 'race_ethnicity_combined', 'hosp_yn', 'icu_yn',\n",
      "       'death_yn', 'medcond_yn', 'pos_spec_dt'],\n",
      "      dtype='object')\n"
     ]
    }
   ],
   "source": [
    "# Display all column names\n",
    "print(data_frame.columns)"
   ]
  },
  {
   "cell_type": "code",
   "execution_count": 12,
   "id": "39a4e504-5cda-42ca-bb42-6d46403a2a01",
   "metadata": {},
   "outputs": [
    {
     "name": "stdout",
     "output_type": "stream",
     "text": [
      "Conversion successful for cdc_case_earliest_dt.\n",
      "Conversion successful for cdc_report_dt.\n",
      "Conversion successful for pos_spec_dt.\n"
     ]
    }
   ],
   "source": [
    "# Convert 'cdc_case_earliest_dt' to datetime\n",
    "try:\n",
    "    data_frame.loc[:, 'cdc_case_earliest_dt'] = pd.to_datetime(data_frame['cdc_case_earliest_dt'], errors='coerce')\n",
    "    print(\"Conversion successful for cdc_case_earliest_dt.\")\n",
    "except KeyError:\n",
    "    print(\"Column 'cdc_case_earliest_dt' not found.\")\n",
    "\n",
    "# Convert 'cdc_report_dt' to datetime\n",
    "try:\n",
    "    data_frame.loc[:, 'cdc_report_dt'] = pd.to_datetime(data_frame['cdc_report_dt'], errors='coerce')\n",
    "    print(\"Conversion successful for cdc_report_dt.\")\n",
    "except KeyError:\n",
    "    print(\"Column 'cdc_report_dt' not found.\")\n",
    "\n",
    "# Convert 'pos_spec_dt' to datetime\n",
    "try:\n",
    "    data_frame.loc[:, 'pos_spec_dt'] = pd.to_datetime(data_frame['pos_spec_dt'], errors='coerce')\n",
    "    print(\"Conversion successful for pos_spec_dt.\")\n",
    "except KeyError:\n",
    "    print(\"Column 'pos_spec_dt' not found.\")\n"
   ]
  },
  {
   "cell_type": "code",
   "execution_count": 13,
   "id": "3a61be22-283e-4e6b-b234-c629a173ca93",
   "metadata": {},
   "outputs": [
    {
     "name": "stdout",
     "output_type": "stream",
     "text": [
      "\n",
      "Checking for Duplicates:\n",
      "0\n"
     ]
    }
   ],
   "source": [
    "print(\"\\nChecking for Duplicates:\")\n",
    "print(data_frame.duplicated().sum())"
   ]
  },
  {
   "cell_type": "code",
   "execution_count": 14,
   "id": "c24d9181-c383-4681-8b33-4066917e0511",
   "metadata": {},
   "outputs": [
    {
     "name": "stdout",
     "output_type": "stream",
     "text": [
      "\n",
      "Checking for nulls in datetime columns:\n",
      "cdc_case_earliest_dt      0\n",
      "cdc_report_dt           139\n",
      "pos_spec_dt               0\n",
      "dtype: int64\n"
     ]
    }
   ],
   "source": [
    "print(\"\\nChecking for nulls in datetime columns:\")\n",
    "print(data_frame[['cdc_case_earliest_dt', 'cdc_report_dt', 'pos_spec_dt']].isnull().sum())\n"
   ]
  },
  {
   "cell_type": "code",
   "execution_count": 23,
   "id": "5ebcaaed-2cef-4ee2-8d08-c407b27b3459",
   "metadata": {},
   "outputs": [
    {
     "name": "stdout",
     "output_type": "stream",
     "text": [
      "Nulls after imputation:\n",
      "0\n"
     ]
    }
   ],
   "source": [
    "\n",
    "from sklearn.impute import SimpleImputer\n",
    "\n",
    "# Initialize imputer (using median imputation as an example)\n",
    "imputer = SimpleImputer(strategy='median')\n",
    "\n",
    "# Step 2. Handle Nulls:\n",
    "# Impute missing values in 'cdc_report_dt'\n",
    "data_frame.loc[:, 'cdc_report_dt'] = imputer.fit_transform(data_frame[['cdc_report_dt']])\n",
    "\n",
    "# Check if nulls were filled correctly\n",
    "print(\"Nulls after imputation:\")\n",
    "print(data_frame['cdc_report_dt'].isnull().sum())"
   ]
  },
  {
   "cell_type": "code",
   "execution_count": 24,
   "id": "968a03ef-f7e2-4104-a60b-e9b1fd70d495",
   "metadata": {},
   "outputs": [
    {
     "name": "stdout",
     "output_type": "stream",
     "text": [
      "\n",
      "Checking for nulls in datetime columns:\n",
      "cdc_case_earliest_dt    0\n",
      "cdc_report_dt           0\n",
      "pos_spec_dt             0\n",
      "dtype: int64\n"
     ]
    }
   ],
   "source": [
    "print(\"\\nChecking for nulls in datetime columns:\")\n",
    "print(data_frame[['cdc_case_earliest_dt', 'cdc_report_dt', 'pos_spec_dt']].isnull().sum())"
   ]
  },
  {
   "cell_type": "code",
   "execution_count": 25,
   "id": "be8b9d30-de14-4f00-904f-86709406de02",
   "metadata": {},
   "outputs": [
    {
     "data": {
      "text/html": [
       "<div>\n",
       "<style scoped>\n",
       "    .dataframe tbody tr th:only-of-type {\n",
       "        vertical-align: middle;\n",
       "    }\n",
       "\n",
       "    .dataframe tbody tr th {\n",
       "        vertical-align: top;\n",
       "    }\n",
       "\n",
       "    .dataframe thead th {\n",
       "        text-align: right;\n",
       "    }\n",
       "</style>\n",
       "<table border=\"1\" class=\"dataframe\">\n",
       "  <thead>\n",
       "    <tr style=\"text-align: right;\">\n",
       "      <th></th>\n",
       "      <th>cdc_case_earliest_dt</th>\n",
       "      <th>cdc_report_dt</th>\n",
       "      <th>onset_dt</th>\n",
       "      <th>current_status</th>\n",
       "      <th>sex</th>\n",
       "      <th>age_group</th>\n",
       "      <th>race_ethnicity_combined</th>\n",
       "      <th>hosp_yn</th>\n",
       "      <th>icu_yn</th>\n",
       "      <th>death_yn</th>\n",
       "      <th>medcond_yn</th>\n",
       "      <th>pos_spec_dt</th>\n",
       "    </tr>\n",
       "  </thead>\n",
       "  <tbody>\n",
       "    <tr>\n",
       "      <th>0</th>\n",
       "      <td>2021-10-09</td>\n",
       "      <td>1.635379e+18</td>\n",
       "      <td>2021-10-09T00:00:00.000</td>\n",
       "      <td>Laboratory-confirmed case</td>\n",
       "      <td>Female</td>\n",
       "      <td>50 - 59 Years</td>\n",
       "      <td>White, Non-Hispanic</td>\n",
       "      <td>No</td>\n",
       "      <td>Missing</td>\n",
       "      <td>No</td>\n",
       "      <td>Missing</td>\n",
       "      <td>1970-01-01</td>\n",
       "    </tr>\n",
       "    <tr>\n",
       "      <th>1</th>\n",
       "      <td>2020-11-03</td>\n",
       "      <td>1.604880e+18</td>\n",
       "      <td>2020-11-03T00:00:00.000</td>\n",
       "      <td>Laboratory-confirmed case</td>\n",
       "      <td>Female</td>\n",
       "      <td>50 - 59 Years</td>\n",
       "      <td>White, Non-Hispanic</td>\n",
       "      <td>No</td>\n",
       "      <td>Missing</td>\n",
       "      <td>No</td>\n",
       "      <td>Missing</td>\n",
       "      <td>1970-01-01</td>\n",
       "    </tr>\n",
       "    <tr>\n",
       "      <th>3</th>\n",
       "      <td>2022-02-06</td>\n",
       "      <td>1.659139e+18</td>\n",
       "      <td>2022-02-06T00:00:00.000</td>\n",
       "      <td>Laboratory-confirmed case</td>\n",
       "      <td>Female</td>\n",
       "      <td>50 - 59 Years</td>\n",
       "      <td>White, Non-Hispanic</td>\n",
       "      <td>No</td>\n",
       "      <td>Missing</td>\n",
       "      <td>No</td>\n",
       "      <td>Missing</td>\n",
       "      <td>1970-01-01</td>\n",
       "    </tr>\n",
       "    <tr>\n",
       "      <th>4</th>\n",
       "      <td>2021-03-06</td>\n",
       "      <td>1.616976e+18</td>\n",
       "      <td>2021-03-06T00:00:00.000</td>\n",
       "      <td>Laboratory-confirmed case</td>\n",
       "      <td>Female</td>\n",
       "      <td>50 - 59 Years</td>\n",
       "      <td>White, Non-Hispanic</td>\n",
       "      <td>No</td>\n",
       "      <td>Missing</td>\n",
       "      <td>No</td>\n",
       "      <td>Missing</td>\n",
       "      <td>1970-01-01</td>\n",
       "    </tr>\n",
       "    <tr>\n",
       "      <th>5</th>\n",
       "      <td>2020-07-09</td>\n",
       "      <td>1.595030e+18</td>\n",
       "      <td>0</td>\n",
       "      <td>Laboratory-confirmed case</td>\n",
       "      <td>Female</td>\n",
       "      <td>50 - 59 Years</td>\n",
       "      <td>White, Non-Hispanic</td>\n",
       "      <td>No</td>\n",
       "      <td>Missing</td>\n",
       "      <td>No</td>\n",
       "      <td>Missing</td>\n",
       "      <td>1970-01-01</td>\n",
       "    </tr>\n",
       "    <tr>\n",
       "      <th>...</th>\n",
       "      <td>...</td>\n",
       "      <td>...</td>\n",
       "      <td>...</td>\n",
       "      <td>...</td>\n",
       "      <td>...</td>\n",
       "      <td>...</td>\n",
       "      <td>...</td>\n",
       "      <td>...</td>\n",
       "      <td>...</td>\n",
       "      <td>...</td>\n",
       "      <td>...</td>\n",
       "      <td>...</td>\n",
       "    </tr>\n",
       "    <tr>\n",
       "      <th>9991</th>\n",
       "      <td>2021-02-01</td>\n",
       "      <td>1.612397e+18</td>\n",
       "      <td>2021-02-01T00:00:00.000</td>\n",
       "      <td>Laboratory-confirmed case</td>\n",
       "      <td>Male</td>\n",
       "      <td>10 - 19 Years</td>\n",
       "      <td>Unknown</td>\n",
       "      <td>No</td>\n",
       "      <td>Missing</td>\n",
       "      <td>No</td>\n",
       "      <td>Missing</td>\n",
       "      <td>1970-01-01</td>\n",
       "    </tr>\n",
       "    <tr>\n",
       "      <th>9995</th>\n",
       "      <td>2022-08-22</td>\n",
       "      <td>1.661126e+18</td>\n",
       "      <td>0</td>\n",
       "      <td>Probable Case</td>\n",
       "      <td>Male</td>\n",
       "      <td>10 - 19 Years</td>\n",
       "      <td>Unknown</td>\n",
       "      <td>Missing</td>\n",
       "      <td>Missing</td>\n",
       "      <td>No</td>\n",
       "      <td>Missing</td>\n",
       "      <td>1970-01-01</td>\n",
       "    </tr>\n",
       "    <tr>\n",
       "      <th>9996</th>\n",
       "      <td>2021-09-07</td>\n",
       "      <td>1.630973e+18</td>\n",
       "      <td>0</td>\n",
       "      <td>Laboratory-confirmed case</td>\n",
       "      <td>Male</td>\n",
       "      <td>10 - 19 Years</td>\n",
       "      <td>Unknown</td>\n",
       "      <td>Missing</td>\n",
       "      <td>Missing</td>\n",
       "      <td>Missing</td>\n",
       "      <td>Missing</td>\n",
       "      <td>1970-01-01</td>\n",
       "    </tr>\n",
       "    <tr>\n",
       "      <th>9997</th>\n",
       "      <td>2021-08-31</td>\n",
       "      <td>1.657066e+18</td>\n",
       "      <td>0</td>\n",
       "      <td>Probable Case</td>\n",
       "      <td>Male</td>\n",
       "      <td>10 - 19 Years</td>\n",
       "      <td>Unknown</td>\n",
       "      <td>No</td>\n",
       "      <td>Missing</td>\n",
       "      <td>No</td>\n",
       "      <td>Missing</td>\n",
       "      <td>1970-01-01</td>\n",
       "    </tr>\n",
       "    <tr>\n",
       "      <th>9999</th>\n",
       "      <td>2022-09-21</td>\n",
       "      <td>1.663718e+18</td>\n",
       "      <td>0</td>\n",
       "      <td>Probable Case</td>\n",
       "      <td>Male</td>\n",
       "      <td>10 - 19 Years</td>\n",
       "      <td>Unknown</td>\n",
       "      <td>Missing</td>\n",
       "      <td>Missing</td>\n",
       "      <td>Missing</td>\n",
       "      <td>Missing</td>\n",
       "      <td>1970-01-01</td>\n",
       "    </tr>\n",
       "  </tbody>\n",
       "</table>\n",
       "<p>9019 rows × 12 columns</p>\n",
       "</div>"
      ],
      "text/plain": [
       "     cdc_case_earliest_dt  cdc_report_dt                 onset_dt  \\\n",
       "0              2021-10-09   1.635379e+18  2021-10-09T00:00:00.000   \n",
       "1              2020-11-03   1.604880e+18  2020-11-03T00:00:00.000   \n",
       "3              2022-02-06   1.659139e+18  2022-02-06T00:00:00.000   \n",
       "4              2021-03-06   1.616976e+18  2021-03-06T00:00:00.000   \n",
       "5              2020-07-09   1.595030e+18                        0   \n",
       "...                   ...            ...                      ...   \n",
       "9991           2021-02-01   1.612397e+18  2021-02-01T00:00:00.000   \n",
       "9995           2022-08-22   1.661126e+18                        0   \n",
       "9996           2021-09-07   1.630973e+18                        0   \n",
       "9997           2021-08-31   1.657066e+18                        0   \n",
       "9999           2022-09-21   1.663718e+18                        0   \n",
       "\n",
       "                 current_status     sex      age_group  \\\n",
       "0     Laboratory-confirmed case  Female  50 - 59 Years   \n",
       "1     Laboratory-confirmed case  Female  50 - 59 Years   \n",
       "3     Laboratory-confirmed case  Female  50 - 59 Years   \n",
       "4     Laboratory-confirmed case  Female  50 - 59 Years   \n",
       "5     Laboratory-confirmed case  Female  50 - 59 Years   \n",
       "...                         ...     ...            ...   \n",
       "9991  Laboratory-confirmed case    Male  10 - 19 Years   \n",
       "9995              Probable Case    Male  10 - 19 Years   \n",
       "9996  Laboratory-confirmed case    Male  10 - 19 Years   \n",
       "9997              Probable Case    Male  10 - 19 Years   \n",
       "9999              Probable Case    Male  10 - 19 Years   \n",
       "\n",
       "     race_ethnicity_combined  hosp_yn   icu_yn death_yn medcond_yn pos_spec_dt  \n",
       "0        White, Non-Hispanic       No  Missing       No    Missing  1970-01-01  \n",
       "1        White, Non-Hispanic       No  Missing       No    Missing  1970-01-01  \n",
       "3        White, Non-Hispanic       No  Missing       No    Missing  1970-01-01  \n",
       "4        White, Non-Hispanic       No  Missing       No    Missing  1970-01-01  \n",
       "5        White, Non-Hispanic       No  Missing       No    Missing  1970-01-01  \n",
       "...                      ...      ...      ...      ...        ...         ...  \n",
       "9991                 Unknown       No  Missing       No    Missing  1970-01-01  \n",
       "9995                 Unknown  Missing  Missing       No    Missing  1970-01-01  \n",
       "9996                 Unknown  Missing  Missing  Missing    Missing  1970-01-01  \n",
       "9997                 Unknown       No  Missing       No    Missing  1970-01-01  \n",
       "9999                 Unknown  Missing  Missing  Missing    Missing  1970-01-01  \n",
       "\n",
       "[9019 rows x 12 columns]"
      ]
     },
     "execution_count": 25,
     "metadata": {},
     "output_type": "execute_result"
    }
   ],
   "source": [
    "data_frame\n"
   ]
  },
  {
   "cell_type": "code",
   "execution_count": 26,
   "id": "8e01d03e-10a4-4359-af10-264aac5288cf",
   "metadata": {},
   "outputs": [
    {
     "name": "stdout",
     "output_type": "stream",
     "text": [
      "age_group\n",
      "50 - 59 Years    4763\n",
      "10 - 19 Years    4256\n",
      "Name: count, dtype: int64\n"
     ]
    }
   ],
   "source": [
    "age_group_counts = data_frame['age_group'].value_counts()\n",
    "print(age_group_counts)\n"
   ]
  },
  {
   "cell_type": "code",
   "execution_count": 27,
   "id": "9796b4b3-21d9-4c59-8406-07a9ea06499d",
   "metadata": {},
   "outputs": [
    {
     "name": "stdout",
     "output_type": "stream",
     "text": [
      "sex\n",
      "Female    4763\n",
      "Male      4256\n",
      "Name: count, dtype: int64\n"
     ]
    }
   ],
   "source": [
    "sex_counts = data_frame['sex'].value_counts()\n",
    "print(sex_counts)\n"
   ]
  },
  {
   "cell_type": "code",
   "execution_count": 28,
   "id": "1f004d16-df4b-49ca-bd94-52f4abb116d4",
   "metadata": {},
   "outputs": [
    {
     "name": "stdout",
     "output_type": "stream",
     "text": [
      "current_status\n",
      "Laboratory-confirmed case    6960\n",
      "Probable Case                2059\n",
      "Name: count, dtype: int64\n"
     ]
    }
   ],
   "source": [
    "status_counts = data_frame['current_status'].value_counts()\n",
    "print(status_counts)\n"
   ]
  },
  {
   "cell_type": "code",
   "execution_count": 29,
   "id": "4303437f-d27a-4271-9fd8-21849c7ada3d",
   "metadata": {},
   "outputs": [
    {
     "name": "stderr",
     "output_type": "stream",
     "text": [
      "C:\\Users\\asian\\AppData\\Local\\Temp\\ipykernel_6564\\1600271539.py:4: SettingWithCopyWarning: \n",
      "A value is trying to be set on a copy of a slice from a DataFrame.\n",
      "Try using .loc[row_indexer,col_indexer] = value instead\n",
      "\n",
      "See the caveats in the documentation: https://pandas.pydata.org/pandas-docs/stable/user_guide/indexing.html#returning-a-view-versus-a-copy\n",
      "  data_frame['cdc_case_earliest_dt'] = pd.to_datetime(data_frame['cdc_case_earliest_dt'])\n",
      "C:\\Users\\asian\\AppData\\Local\\Temp\\ipykernel_6564\\1600271539.py:5: SettingWithCopyWarning: \n",
      "A value is trying to be set on a copy of a slice from a DataFrame.\n",
      "Try using .loc[row_indexer,col_indexer] = value instead\n",
      "\n",
      "See the caveats in the documentation: https://pandas.pydata.org/pandas-docs/stable/user_guide/indexing.html#returning-a-view-versus-a-copy\n",
      "  data_frame['cdc_report_dt'] = pd.to_datetime(data_frame['cdc_report_dt'])\n"
     ]
    },
    {
     "data": {
      "image/png": "[encoded data removed]",
      "text/plain": [
       "<Figure size 1400x700 with 1 Axes>"
      ]
     },
     "metadata": {},
     "output_type": "display_data"
    }
   ],
   "source": [
    "import matplotlib.pyplot as plt\n",
    "\n",
    "# Convert string dates to datetime\n",
    "data_frame['cdc_case_earliest_dt'] = pd.to_datetime(data_frame['cdc_case_earliest_dt'])\n",
    "data_frame['cdc_report_dt'] = pd.to_datetime(data_frame['cdc_report_dt'])\n",
    "\n",
    "# Plotting case trends\n",
    "plt.figure(figsize=(14, 7))\n",
    "data_frame.groupby(data_frame['cdc_case_earliest_dt'].dt.year).size().plot(kind='bar', color='skyblue')\n",
    "plt.title('Case Trends Over Time')\n",
    "plt.xlabel('Year')\n",
    "plt.ylabel('Number of Cases')\n",
    "plt.show()"
   ]
  },
  {
   "cell_type": "code",
   "execution_count": 30,
   "id": "53b94e21-2f77-487e-99c6-6079d467504a",
   "metadata": {},
   "outputs": [
    {
     "data": {
      "image/png": "[encoded data removed]",
      "text/plain": [
       "<Figure size 800x500 with 1 Axes>"
      ]
     },
     "metadata": {},
     "output_type": "display_data"
    }
   ],
   "source": [
    "plt.figure(figsize=(8, 5))\n",
    "gender_distribution = data_frame['sex'].value_counts(normalize=True) * 100\n",
    "gender_distribution.plot(kind='bar', color=['lightblue', 'lightgreen'])\n",
    "plt.title('Distribution of Cases by Gender')\n",
    "plt.ylabel('Percentage')\n",
    "plt.show()\n"
   ]
  },
  {
   "cell_type": "code",
   "execution_count": 31,
   "id": "b892cfb9-f06f-4050-8381-0c9d8e5b10a2",
   "metadata": {},
   "outputs": [
    {
     "data": {
      "image/png": "[encoded data removed]",
      "text/plain": [
       "<Figure size 1200x600 with 1 Axes>"
      ]
     },
     "metadata": {},
     "output_type": "display_data"
    }
   ],
   "source": [
    "plt.figure(figsize=(12, 6))\n",
    "age_group_distribution = data_frame['age_group'].value_counts(normalize=True) * 100\n",
    "age_group_distribution.plot(kind='bar', color='purple')\n",
    "plt.title('Distribution of Cases by Age Group')\n",
    "plt.xlabel('Age Group')\n",
    "plt.ylabel('Percentage')\n",
    "plt.show()\n"
   ]
  },
  {
   "cell_type": "code",
   "execution_count": 32,
   "id": "54481807-2099-4184-939e-833925d4172d",
   "metadata": {},
   "outputs": [
    {
     "ename": "ValueError",
     "evalue": "could not convert string to float: '50 - 59 Years'",
     "output_type": "error",
     "traceback": [
      "\u001b[1;31m---------------------------------------------------------------------------\u001b[0m",
      "\u001b[1;31mValueError\u001b[0m                                Traceback (most recent call last)",
      "Cell \u001b[1;32mIn[32], line 1\u001b[0m\n\u001b[1;32m----> 1\u001b[0m correlation_matrix \u001b[38;5;241m=\u001b[39m \u001b[43mdata_frame\u001b[49m\u001b[43m[\u001b[49m\u001b[43m[\u001b[49m\u001b[38;5;124;43m'\u001b[39;49m\u001b[38;5;124;43mage_group\u001b[39;49m\u001b[38;5;124;43m'\u001b[39;49m\u001b[43m,\u001b[49m\u001b[43m \u001b[49m\u001b[38;5;124;43m'\u001b[39;49m\u001b[38;5;124;43msex\u001b[39;49m\u001b[38;5;124;43m'\u001b[39;49m\u001b[43m,\u001b[49m\u001b[43m \u001b[49m\u001b[38;5;124;43m'\u001b[39;49m\u001b[38;5;124;43mdeath_yn\u001b[39;49m\u001b[38;5;124;43m'\u001b[39;49m\u001b[43m,\u001b[49m\u001b[43m \u001b[49m\u001b[38;5;124;43m'\u001b[39;49m\u001b[38;5;124;43mhosp_yn\u001b[39;49m\u001b[38;5;124;43m'\u001b[39;49m\u001b[43m]\u001b[49m\u001b[43m]\u001b[49m\u001b[38;5;241;43m.\u001b[39;49m\u001b[43mcorr\u001b[49m\u001b[43m(\u001b[49m\u001b[43m)\u001b[49m\n\u001b[0;32m      2\u001b[0m \u001b[38;5;28mprint\u001b[39m(correlation_matrix)\n",
      "File \u001b[1;32m~\\AppData\\Local\\Programs\\Python\\Python313\\Lib\\site-packages\\pandas\\core\\frame.py:11049\u001b[0m, in \u001b[0;36mDataFrame.corr\u001b[1;34m(self, method, min_periods, numeric_only)\u001b[0m\n\u001b[0;32m  11047\u001b[0m cols \u001b[38;5;241m=\u001b[39m data\u001b[38;5;241m.\u001b[39mcolumns\n\u001b[0;32m  11048\u001b[0m idx \u001b[38;5;241m=\u001b[39m cols\u001b[38;5;241m.\u001b[39mcopy()\n\u001b[1;32m> 11049\u001b[0m mat \u001b[38;5;241m=\u001b[39m \u001b[43mdata\u001b[49m\u001b[38;5;241;43m.\u001b[39;49m\u001b[43mto_numpy\u001b[49m\u001b[43m(\u001b[49m\u001b[43mdtype\u001b[49m\u001b[38;5;241;43m=\u001b[39;49m\u001b[38;5;28;43mfloat\u001b[39;49m\u001b[43m,\u001b[49m\u001b[43m \u001b[49m\u001b[43mna_value\u001b[49m\u001b[38;5;241;43m=\u001b[39;49m\u001b[43mnp\u001b[49m\u001b[38;5;241;43m.\u001b[39;49m\u001b[43mnan\u001b[49m\u001b[43m,\u001b[49m\u001b[43m \u001b[49m\u001b[43mcopy\u001b[49m\u001b[38;5;241;43m=\u001b[39;49m\u001b[38;5;28;43;01mFalse\u001b[39;49;00m\u001b[43m)\u001b[49m\n\u001b[0;32m  11051\u001b[0m \u001b[38;5;28;01mif\u001b[39;00m method \u001b[38;5;241m==\u001b[39m \u001b[38;5;124m\"\u001b[39m\u001b[38;5;124mpearson\u001b[39m\u001b[38;5;124m\"\u001b[39m:\n\u001b[0;32m  11052\u001b[0m     correl \u001b[38;5;241m=\u001b[39m libalgos\u001b[38;5;241m.\u001b[39mnancorr(mat, minp\u001b[38;5;241m=\u001b[39mmin_periods)\n",
      "File \u001b[1;32m~\\AppData\\Local\\Programs\\Python\\Python313\\Lib\\site-packages\\pandas\\core\\frame.py:1993\u001b[0m, in \u001b[0;36mDataFrame.to_numpy\u001b[1;34m(self, dtype, copy, na_value)\u001b[0m\n\u001b[0;32m   1991\u001b[0m \u001b[38;5;28;01mif\u001b[39;00m dtype \u001b[38;5;129;01mis\u001b[39;00m \u001b[38;5;129;01mnot\u001b[39;00m \u001b[38;5;28;01mNone\u001b[39;00m:\n\u001b[0;32m   1992\u001b[0m     dtype \u001b[38;5;241m=\u001b[39m np\u001b[38;5;241m.\u001b[39mdtype(dtype)\n\u001b[1;32m-> 1993\u001b[0m result \u001b[38;5;241m=\u001b[39m \u001b[38;5;28;43mself\u001b[39;49m\u001b[38;5;241;43m.\u001b[39;49m\u001b[43m_mgr\u001b[49m\u001b[38;5;241;43m.\u001b[39;49m\u001b[43mas_array\u001b[49m\u001b[43m(\u001b[49m\u001b[43mdtype\u001b[49m\u001b[38;5;241;43m=\u001b[39;49m\u001b[43mdtype\u001b[49m\u001b[43m,\u001b[49m\u001b[43m \u001b[49m\u001b[43mcopy\u001b[49m\u001b[38;5;241;43m=\u001b[39;49m\u001b[43mcopy\u001b[49m\u001b[43m,\u001b[49m\u001b[43m \u001b[49m\u001b[43mna_value\u001b[49m\u001b[38;5;241;43m=\u001b[39;49m\u001b[43mna_value\u001b[49m\u001b[43m)\u001b[49m\n\u001b[0;32m   1994\u001b[0m \u001b[38;5;28;01mif\u001b[39;00m result\u001b[38;5;241m.\u001b[39mdtype \u001b[38;5;129;01mis\u001b[39;00m \u001b[38;5;129;01mnot\u001b[39;00m dtype:\n\u001b[0;32m   1995\u001b[0m     result \u001b[38;5;241m=\u001b[39m np\u001b[38;5;241m.\u001b[39masarray(result, dtype\u001b[38;5;241m=\u001b[39mdtype)\n",
      "File \u001b[1;32m~\\AppData\\Local\\Programs\\Python\\Python313\\Lib\\site-packages\\pandas\\core\\internals\\managers.py:1688\u001b[0m, in \u001b[0;36mBlockManager.as_array\u001b[1;34m(self, dtype, copy, na_value)\u001b[0m\n\u001b[0;32m   1686\u001b[0m     arr \u001b[38;5;241m=\u001b[39m np\u001b[38;5;241m.\u001b[39masarray(blk\u001b[38;5;241m.\u001b[39mvalues, dtype\u001b[38;5;241m=\u001b[39mdtype)\n\u001b[0;32m   1687\u001b[0m \u001b[38;5;28;01melse\u001b[39;00m:\n\u001b[1;32m-> 1688\u001b[0m     arr \u001b[38;5;241m=\u001b[39m \u001b[43mnp\u001b[49m\u001b[38;5;241;43m.\u001b[39;49m\u001b[43marray\u001b[49m\u001b[43m(\u001b[49m\u001b[43mblk\u001b[49m\u001b[38;5;241;43m.\u001b[39;49m\u001b[43mvalues\u001b[49m\u001b[43m,\u001b[49m\u001b[43m \u001b[49m\u001b[43mdtype\u001b[49m\u001b[38;5;241;43m=\u001b[39;49m\u001b[43mdtype\u001b[49m\u001b[43m,\u001b[49m\u001b[43m \u001b[49m\u001b[43mcopy\u001b[49m\u001b[38;5;241;43m=\u001b[39;49m\u001b[43mcopy\u001b[49m\u001b[43m)\u001b[49m\n\u001b[0;32m   1690\u001b[0m \u001b[38;5;28;01mif\u001b[39;00m using_copy_on_write() \u001b[38;5;129;01mand\u001b[39;00m \u001b[38;5;129;01mnot\u001b[39;00m copy:\n\u001b[0;32m   1691\u001b[0m     arr \u001b[38;5;241m=\u001b[39m arr\u001b[38;5;241m.\u001b[39mview()\n",
      "\u001b[1;31mValueError\u001b[0m: could not convert string to float: '50 - 59 Years'"
     ]
    }
   ],
   "source": [
    "import pandas as pd\n",
    "\n",
    "# Assuming your DataFrame is already loaded into 'data_frame'\n",
    "data_frame.to_excel('cleaned_data.xlsx', index=False)\n",
    "\n",
    "print(\"DataFrame has been successfully saved as 'cleaned_data.xlsx'\")\n"
   ]
  },
  {
   "cell_type": "code",
   "execution_count": null,
   "id": "a10488bb-3319-4b8a-9ea7-e3307a983172",
   "metadata": {},
   "outputs": [],
   "source": []
  }
 ],
 "metadata": {
  "kernelspec": {
   "display_name": "Python 3 (ipykernel)",
   "language": "python",
   "name": "python3"
  },
  "language_info": {
   "codemirror_mode": {
    "name": "ipython",
    "version": 3
   },
   "file_extension": ".py",
   "mimetype": "text/x-python",
   "name": "python",
   "nbconvert_exporter": "python",
   "pygments_lexer": "ipython3",
   "version": "3.13.0"
  }
 },
 "nbformat": 4,
 "nbformat_minor": 5
}
